{
 "cells": [
  {
   "cell_type": "code",
   "execution_count": 2,
   "metadata": {},
   "outputs": [],
   "source": [
    "import pandas as pd\n",
    "import os\n",
    "import shutil \n",
    "import tkinter"
   ]
  },
  {
   "cell_type": "code",
   "execution_count": 3,
   "metadata": {},
   "outputs": [],
   "source": [
    "def create_folder( excelsheet_path, destination_folder_path, image_folder_path):\n",
    "    try:\n",
    "        df = pd.read_excel( excelsheet_path)\n",
    "        os.chdir( destination_folder_path)\n",
    "        for i in range(df.shape[0]):\n",
    "            if not os.path.exists(df.iloc[i,0]):\n",
    "                os.makedirs(df.iloc[i,0])\n",
    "            shutil.copy(image_folder_path+'/'+df.iloc[i,1],df.iloc[i,0])\n",
    "        return \"Successfull\"\n",
    "    except:\n",
    "            return \"Unsuccessfull,some error occured\"\n",
    "        "
   ]
  },
  {
   "cell_type": "code",
   "execution_count": 4,
   "metadata": {},
   "outputs": [],
   "source": [
    "def message():\n",
    "    global output\n",
    "    global source_path\n",
    "    global destination_path\n",
    "    global image_path\n",
    "    result = create_folder(source_path.get(),destination_path.get(),image_path.get())\n",
    "    output.config(text='{}'.format(result))"
   ]
  },
  {
   "cell_type": "code",
   "execution_count": 5,
   "metadata": {},
   "outputs": [],
   "source": [
    "window = tkinter.Tk()\n",
    "window.title(\"window\")\n",
    "L1 = tkinter.Label(window, text = \"           Excel Sheet Path  : \",font=(\"Bitstream Charter\",15,\" bold\"))\n",
    "L1.place(x=100,y=200)\n",
    "source_path = tkinter.Entry(window,font=(_,15,_),width=75)\n",
    "source_path.place(x=350,y=200)\n",
    "\n",
    "destination_path = tkinter.Entry(window,font=(_,15,_),width=75)\n",
    "destination_path.place(x=350,y=300)\n",
    "L2 = tkinter.Label(window, text = \"Destination Folder Path  : \",font=(\"Bitstream Charter\",15,\" bold\"))\n",
    "L2.place(x=100,y=300)\n",
    "\n",
    "image_path = tkinter.Entry(window,font=(_,15,_),width=75)\n",
    "image_path.place(x=350,y=400)\n",
    "L3 = tkinter.Label(window, text = \"        Image Folder Path  : \",font=(\"Bitstream Charter\",15,\" bold\"))\n",
    "L3.place(x=100,y=400)\n",
    "\n",
    "proceed = tkinter.Button(window,text='PROCEED',bg=\"green\",fg=\"white\",font=(\"Courier 10 Pitch\",20,\"bold \"),\\\n",
    "width=10,height=1,border=2,relief=\"raised\",command=message)\n",
    "proceed.place(x=550,y=500)\n",
    "\n",
    "output=tkinter.Label(window,text=\"Enter the fields\",width=39,font=(\"Courier 10 Pitch\",25,\"bold italic\"),bg=\"black\",fg=\"green\")\n",
    "output.place(x=260,y=110)\n",
    "window.mainloop()"
   ]
  }
 ],
 "metadata": {
  "kernelspec": {
   "display_name": "Python 3",
   "language": "python",
   "name": "python3"
  },
  "language_info": {
   "codemirror_mode": {
    "name": "ipython",
    "version": 3
   },
   "file_extension": ".py",
   "mimetype": "text/x-python",
   "name": "python",
   "nbconvert_exporter": "python",
   "pygments_lexer": "ipython3",
   "version": "3.7.4"
  }
 },
 "nbformat": 4,
 "nbformat_minor": 2
}
