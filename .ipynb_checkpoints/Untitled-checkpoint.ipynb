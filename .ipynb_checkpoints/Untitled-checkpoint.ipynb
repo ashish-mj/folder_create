{
 "cells": [
  {
   "cell_type": "code",
   "execution_count": null,
   "metadata": {},
   "outputs": [
    {
     "name": "stdout",
     "output_type": "stream",
     "text": [
      " * Serving Flask app \"__main__\" (lazy loading)\n",
      " * Environment: production\n",
      "   WARNING: This is a development server. Do not use it in a production deployment.\n",
      "   Use a production WSGI server instead.\n",
      " * Debug mode: off\n"
     ]
    },
    {
     "name": "stderr",
     "output_type": "stream",
     "text": [
      " * Running on http://127.0.0.1:5000/ (Press CTRL+C to quit)\n",
      "127.0.0.1 - - [04/Mar/2020 21:51:06] \"GET / HTTP/1.1\" 200 -\n",
      "127.0.0.1 - - [04/Mar/2020 21:51:06] \"GET /favicon.ico HTTP/1.1\" 404 -\n",
      "127.0.0.1 - - [04/Mar/2020 21:51:26] \"GET / HTTP/1.1\" 200 -\n",
      "127.0.0.1 - - [04/Mar/2020 21:51:27] \"GET / HTTP/1.1\" 200 -\n",
      "127.0.0.1 - - [04/Mar/2020 21:51:27] \"GET / HTTP/1.1\" 200 -\n",
      "127.0.0.1 - - [04/Mar/2020 21:51:28] \"GET / HTTP/1.1\" 200 -\n"
     ]
    }
   ],
   "source": [
    "from flask import Flask\n",
    "app=Flask(__name__)\n",
    "\n",
    "@app.route('/')\n",
    "def index():\n",
    "    return '<h1>HELLO WORLD</h1><p>Welcome to my blog </p>'\n",
    "\n",
    "@app.route('/information')\n",
    "def info():\n",
    "    return '<h1>FLASK ROCKS</h1>'\n",
    "if __name__== '__main__' :\n",
    "    app.run()"
   ]
  },
  {
   "cell_type": "code",
   "execution_count": null,
   "metadata": {},
   "outputs": [],
   "source": []
  }
 ],
 "metadata": {
  "kernelspec": {
   "display_name": "Python 3",
   "language": "python",
   "name": "python3"
  },
  "language_info": {
   "codemirror_mode": {
    "name": "ipython",
    "version": 3
   },
   "file_extension": ".py",
   "mimetype": "text/x-python",
   "name": "python",
   "nbconvert_exporter": "python",
   "pygments_lexer": "ipython3",
   "version": "3.7.4"
  }
 },
 "nbformat": 4,
 "nbformat_minor": 2
}
